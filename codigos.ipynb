{
 "cells": [
  {
   "cell_type": "code",
   "execution_count": null,
   "id": "2ef8edad",
   "metadata": {},
   "outputs": [],
   "source": [
    "import geopandas as gpd\n",
    "import pandas as pd\n",
    "\n",
    "# Caminho do shapefile\n",
    "caminho = \"data/PRODES_AMZ_Municipal_2023.shp\"\n",
    "\n",
    "# Ler o shapefile\n",
    "gdf = gpd.read_file(caminho)\n",
    "\n",
    "print(\"Colunas encontradas no shapefile:\")\n",
    "print(gdf.columns)\n",
    "\n",
    "\n",
    "# Agrupar por estado e ano, somando área total desmatada\n",
    "# Salvar como CSV\n",
    "\n",
    "gdf.to_csv('data/desmatamento_por_estado.csv', index=False)\n",
    "\n",
    "print(\"✅ Arquivo CSV agregado salvo com sucesso em data/desmatamento_por_estado.csv\")\n",
    "\n"
   ]
  },
  {
   "cell_type": "code",
   "execution_count": null,
   "id": "977d8748",
   "metadata": {},
   "outputs": [],
   "source": [
    "import pandas as pd\n",
    "\n",
    "url = \"https://apisidra.ibge.gov.br/values/t/5938/n6/all/v/37/p/2021\"\n",
    "df = pd.read_json(url)\n",
    "df.to_csv(\"data/pib_municipal_2023.csv\", index=False)\n",
    "\n",
    "print(\"✅ PIB municipal 2021 salvo com sucesso!\")\n"
   ]
  },
  {
   "cell_type": "code",
   "execution_count": null,
   "id": "cf688ad4",
   "metadata": {},
   "outputs": [
    {
     "ename": "ModuleNotFoundError",
     "evalue": "No module named 'pandas'",
     "output_type": "error",
     "traceback": [
      "\u001b[31m---------------------------------------------------------------------------\u001b[39m",
      "\u001b[31mModuleNotFoundError\u001b[39m                       Traceback (most recent call last)",
      "\u001b[36mCell\u001b[39m\u001b[36m \u001b[39m\u001b[32mIn[1]\u001b[39m\u001b[32m, line 1\u001b[39m\n\u001b[32m----> \u001b[39m\u001b[32m1\u001b[39m \u001b[38;5;28;01mimport\u001b[39;00m\u001b[38;5;250m \u001b[39m\u001b[34;01mpandas\u001b[39;00m\u001b[38;5;250m \u001b[39m\u001b[38;5;28;01mas\u001b[39;00m\u001b[38;5;250m \u001b[39m\u001b[34;01mpd\u001b[39;00m\n\u001b[32m      2\u001b[39m \u001b[38;5;28;01mimport\u001b[39;00m\u001b[38;5;250m \u001b[39m\u001b[34;01mos\u001b[39;00m\n\u001b[32m      4\u001b[39m \u001b[38;5;66;03m# Caminho da base original\u001b[39;00m\n",
      "\u001b[31mModuleNotFoundError\u001b[39m: No module named 'pandas'"
     ]
    }
   ],
   "source": [
    "import pandas as pd\n",
    "import os\n",
    "\n",
    "# Caminho da base original\n",
    "caminho = \"data/desmatamento_por_estado.csv\"\n",
    "\n",
    "# Criar pasta de saída\n",
    "os.makedirs(\"data/limpos\", exist_ok=True)\n",
    "\n",
    "# 1️⃣ Ler a base\n",
    "df = pd.read_csv(caminho)\n",
    "print(\"✅ Base carregada com sucesso!\")\n",
    "print(\"📊 Linhas:\", len(df))\n",
    "\n",
    "# 2️⃣ Manter apenas colunas importantes\n",
    "colunas_importantes = [\n",
    "    \"fid\",\n",
    "    \"state\",\n",
    "    \"image_date\",\n",
    "    \"area_km\"\n",
    "]\n",
    "df = df[colunas_importantes]\n",
    "print(\"🔹 Colunas mantidas:\", list(df.columns))\n",
    "\n",
    "# 3️⃣ Corrigir tipos de dados\n",
    "df[\"area_km\"] = pd.to_numeric(df[\"area_km\"], errors=\"coerce\")\n",
    "df[\"image_date\"] = pd.to_datetime(df[\"image_date\"], errors=\"coerce\")\n",
    "\n",
    "# 4️⃣ Filtrar apenas registros de 2021 (sem criar coluna year permanente)\n",
    "df = df.loc[df[\"image_date\"].dt.year == 2021]\n",
    "\n",
    "# 5️⃣ Remover linhas com dados inválidos\n",
    "df = df.dropna(subset=[\"area_km\", \"image_date\"])\n",
    "\n",
    "# 6️⃣ Padronizar nomes das colunas\n",
    "df.columns = df.columns.str.lower()\n",
    "\n",
    "# 7️⃣ Salvar versão limpa (sem coluna year)\n",
    "output = \"data/limpos/desmatamento_2021.csv\"\n",
    "df.to_csv(output, index=False, encoding=\"utf-8-sig\")\n",
    "\n",
    "print(\"✅ Base filtrada por 2021 salva com sucesso!\")\n",
    "print(df.head())\n"
   ]
  }
 ],
 "metadata": {
  "kernelspec": {
   "display_name": "Python 3",
   "language": "python",
   "name": "python3"
  },
  "language_info": {
   "codemirror_mode": {
    "name": "ipython",
    "version": 3
   },
   "file_extension": ".py",
   "mimetype": "text/x-python",
   "name": "python",
   "nbconvert_exporter": "python",
   "pygments_lexer": "ipython3",
   "version": "3.11.9"
  }
 },
 "nbformat": 4,
 "nbformat_minor": 5
}
