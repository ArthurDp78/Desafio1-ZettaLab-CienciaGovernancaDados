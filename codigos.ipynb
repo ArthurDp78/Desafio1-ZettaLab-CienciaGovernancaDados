{
 "cells": [
  {
   "cell_type": "code",
   "execution_count": null,
   "id": "2ef8edad",
   "metadata": {
    "vscode": {
     "languageId": "plaintext"
    }
   },
   "outputs": [],
   "source": [
    "import geopandas as gpd\n",
    "import pandas as pd\n",
    "\n",
    "# Caminho do shapefile\n",
    "caminho = \"data/PRODES_AMZ_Municipal_2023.shp\"\n",
    "\n",
    "# Ler o shapefile\n",
    "gdf = gpd.read_file(caminho)\n",
    "\n",
    "print(\"Colunas encontradas no shapefile:\")\n",
    "print(gdf.columns)\n",
    "\n",
    "\n",
    "# Agrupar por estado e ano, somando área total desmatada\n",
    "# Salvar como CSV\n",
    "\n",
    "gdf.to_csv('data/desmatamento_por_estado.csv', index=False)\n",
    "\n",
    "print(\"✅ Arquivo CSV agregado salvo com sucesso em data/desmatamento_por_estado.csv\")\n",
    "\n"
   ]
  },
  {
   "cell_type": "code",
   "execution_count": null,
   "id": "977d8748",
   "metadata": {
    "vscode": {
     "languageId": "plaintext"
    }
   },
   "outputs": [],
   "source": [
    "import pandas as pd\n",
    "\n",
    "url = \"https://apisidra.ibge.gov.br/values/t/5938/n6/all/v/37/p/2021\"\n",
    "df = pd.read_json(url)\n",
    "df.to_csv(\"data/pib_municipal_2023.csv\", index=False)\n",
    "\n",
    "print(\"✅ PIB municipal 2021 salvo com sucesso!\")\n"
   ]
  },
  {
   "cell_type": "code",
   "execution_count": null,
   "id": "cf688ad4",
   "metadata": {
    "vscode": {
     "languageId": "plaintext"
    }
   },
   "outputs": [],
   "source": [
    "import pandas as pd\n",
    "import os\n",
    "\n",
    "# Caminho da base original\n",
    "caminho = \"data/desmatamento_por_estado.csv\"\n",
    "\n",
    "# Criar pasta de saída\n",
    "os.makedirs(\"data/limpos\", exist_ok=True)\n",
    "\n",
    "# 1️⃣ Ler a base\n",
    "df = pd.read_csv(caminho)\n",
    "print(\"✅ Base carregada com sucesso!\")\n",
    "print(\"📊 Linhas:\", len(df))\n",
    "\n",
    "# 2️⃣ Manter apenas colunas importantes\n",
    "colunas_importantes = [\n",
    "    \"fid\",\n",
    "    \"state\",\n",
    "    \"main_class\",\n",
    "    \"class_name\",\n",
    "    \"image_date\",\n",
    "    \"year\",\n",
    "    \"area_km\",\n",
    "    \"uuid\"\n",
    "]\n",
    "df = df[colunas_importantes]\n",
    "\n",
    "print(\"🔹 Colunas mantidas:\", list(df.columns))\n",
    "\n",
    "# 3️⃣ Corrigir tipos de dados\n",
    "df[\"year\"] = df[\"year\"].astype(int)\n",
    "df[\"area_km\"] = df[\"area_km\"].astype(float)\n",
    "df[\"image_date\"] = pd.to_datetime(df[\"image_date\"], errors=\"coerce\")\n",
    "\n",
    "# 4️⃣ Filtrar apenas o ano de 2021\n",
    "df = df.loc[df[\"year\"] == 2021]\n",
    "\n",
    "# 5️⃣ Remover linhas sem área ou ano válidos\n",
    "df = df.dropna(subset=[\"area_km\", \"year\"])\n",
    "\n",
    "# 6️⃣ Padronizar nomes das colunas\n",
    "df.columns = df.columns.str.lower()\n",
    "\n",
    "# 7️⃣ Salvar versão limpa\n",
    "output = \"data/limpos/desmatamento_2021.csv\"\n",
    "df.to_csv(output, index=False, encoding=\"utf-8-sig\")\n"
   ]
  },
  {
   "cell_type": "code",
   "execution_count": null,
   "id": "97ef5cae",
   "metadata": {
    "vscode": {
     "languageId": "plaintext"
    }
   },
   "outputs": [],
   "source": [
    "import pandas as pd\n",
    "import re\n",
    "\n",
    "# caminho do arquivo original\n",
    "caminho = \"data/pib_municipal_2021.csv\"\n",
    "\n",
    "# ler a base\n",
    "df = pd.read_csv(caminho)\n",
    "\n",
    "# renomear colunas para facilitar\n",
    "df = df.rename(columns={\n",
    "    \"V\": \"pib_mil_reais\",\n",
    "    \"D1N\": \"municipio_nome\"\n",
    "})\n",
    "\n",
    "# extrair a sigla do estado do nome do município (depois do \" - \")\n",
    "df[\"UF\"] = df[\"municipio_nome\"].apply(lambda x: re.search(r\"-\\s*([A-Z]{2})$\", x).group(1) if re.search(r\"-\\s*([A-Z]{2})$\", x) else None)\n",
    "\n",
    "# converter PIB para número\n",
    "df[\"pib_mil_reais\"] = pd.to_numeric(df[\"pib_mil_reais\"], errors=\"coerce\")\n",
    "\n",
    "# agrupar por UF e somar\n",
    "pib_estadual = df.groupby(\"UF\", as_index=False)[\"pib_mil_reais\"].sum()\n",
    "\n",
    "# criar coluna em bilhões para facilitar a leitura\n",
    "pib_estadual[\"pib_bilhoes\"] = (pib_estadual[\"pib_mil_reais\"] / 1_000_000).round(2)\n",
    "\n",
    "# salvar resultado\n",
    "pib_estadual.to_csv(\"data/pib_estadual_2021.csv\", index=False, encoding=\"utf-8-sig\")\n",
    "\n",
    "print(\"✅ PIB estadual 2021 calculado com sucesso!\")\n",
    "print(pib_estadual)\n"
   ]
  }
 ],
 "metadata": {
  "language_info": {
   "name": "python"
  }
 },
 "nbformat": 4,
 "nbformat_minor": 5
}
