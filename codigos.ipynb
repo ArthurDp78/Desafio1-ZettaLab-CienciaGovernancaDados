{
 "cells": [
  {
   "cell_type": "code",
   "execution_count": null,
   "id": "2ef8edad",
   "metadata": {
    "vscode": {
     "languageId": "plaintext"
    }
   },
   "outputs": [],
   "source": [
    "import geopandas as gpd\n",
    "import pandas as pd\n",
    "\n",
    "# Caminho do shapefile\n",
    "caminho = \"data/PRODES_AMZ_Municipal_2023.shp\"\n",
    "\n",
    "# Ler o shapefile\n",
    "gdf = gpd.read_file(caminho)\n",
    "\n",
    "print(\"Colunas encontradas no shapefile:\")\n",
    "print(gdf.columns)\n",
    "\n",
    "\n",
    "# Agrupar por estado e ano, somando área total desmatada\n",
    "# Salvar como CSV\n",
    "\n",
    "gdf.to_csv('data/desmatamento_por_estado.csv', index=False)\n",
    "\n",
    "print(\"✅ Arquivo CSV agregado salvo com sucesso em data/desmatamento_por_estado.csv\")\n",
    "\n"
   ]
  },
  {
   "cell_type": "code",
   "execution_count": null,
   "id": "977d8748",
   "metadata": {
    "vscode": {
     "languageId": "plaintext"
    }
   },
   "outputs": [],
   "source": [
    "import pandas as pd\n",
    "\n",
    "url = \"https://apisidra.ibge.gov.br/values/t/5938/n6/all/v/37/p/2021\"\n",
    "df = pd.read_json(url)\n",
    "df.to_csv(\"data/pib_municipal_2023.csv\", index=False)\n",
    "\n",
    "print(\"✅ PIB municipal 2021 salvo com sucesso!\")\n"
   ]
  }
 ],
 "metadata": {
  "language_info": {
   "name": "python"
  }
 },
 "nbformat": 4,
 "nbformat_minor": 5
}
